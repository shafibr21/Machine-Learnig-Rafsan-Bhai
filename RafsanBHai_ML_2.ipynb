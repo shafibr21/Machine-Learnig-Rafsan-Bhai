{
  "nbformat": 4,
  "nbformat_minor": 0,
  "metadata": {
    "colab": {
      "provenance": [],
      "authorship_tag": "ABX9TyO/kDzX2YUm6XZyDZJW32WA",
      "include_colab_link": true
    },
    "kernelspec": {
      "name": "python3",
      "display_name": "Python 3"
    },
    "language_info": {
      "name": "python"
    }
  },
  "cells": [
    {
      "cell_type": "markdown",
      "metadata": {
        "id": "view-in-github",
        "colab_type": "text"
      },
      "source": [
        "<a href=\"https://colab.research.google.com/github/shafibr21/Machine-Learnig-Rafsan-Bhai/blob/main/RafsanBHai_ML_2.ipynb\" target=\"_parent\"><img src=\"https://colab.research.google.com/assets/colab-badge.svg\" alt=\"Open In Colab\"/></a>"
      ]
    },
    {
      "cell_type": "markdown",
      "source": [
        "#26.11.2022"
      ],
      "metadata": {
        "id": "-GEtcveJ_LIY"
      }
    },
    {
      "cell_type": "code",
      "execution_count": 2,
      "metadata": {
        "id": "DxE7HsNY_Jqb"
      },
      "outputs": [],
      "source": [
        "import numpy as np\n",
        "import pandas as pd\n",
        "\n",
        "dataset = pd.read_csv(\"https://raw.githubusercontent.com/RafsanJany-44/Research-NREM-REM/main/dataset/O2/REM_NREM_O2.csv?fbclid=IwAR1k22mTNi6wRx8-Sir5dEp4U8gepQ01kkaSN6Y58t9Yl3yJWkG3pQP0RZ8\")"
      ]
    },
    {
      "cell_type": "code",
      "source": [
        "dataset.head(10)"
      ],
      "metadata": {
        "colab": {
          "base_uri": "https://localhost:8080/",
          "height": 474
        },
        "id": "M-lz3jsg_0vr",
        "outputId": "36a557dc-6103-4a0b-e95e-0038f37b43d3"
      },
      "execution_count": 8,
      "outputs": [
        {
          "output_type": "execute_result",
          "data": {
            "text/plain": [
              "  Sleep_Stage  MeanP_Alpha_O2  MedianF_Alpha_O2  MeanF_Alpha_O2  \\\n",
              "0        NREM         0.00023          10.61463        18.48195   \n",
              "1        NREM         0.00023          10.36488        18.10732   \n",
              "2        NREM         0.00025           9.74049        17.35805   \n",
              "3        NREM         0.00027           9.49073        17.60780   \n",
              "4        NREM         0.00036           9.24098        16.48390   \n",
              "5        NREM         0.00035           9.24098        16.60878   \n",
              "6        NREM         0.00038           9.24098        15.85951   \n",
              "7        NREM         0.00044           9.11610        15.36000   \n",
              "8        NREM         0.00043           9.24098        15.36000   \n",
              "9        NREM         0.00044           9.11610        14.86049   \n",
              "\n",
              "   Spectral Edge_Alpha_O2  PeakF_Alpha_O2  MeanP_Beta_O2  MedianF_Beta_O2  \\\n",
              "0                17.98244        10.73951        0.00034         18.23220   \n",
              "1                17.48293        10.24000        0.00032         18.10732   \n",
              "2                16.73366         9.86537        0.00031         17.23317   \n",
              "3                16.85854         8.11707        0.00033         17.73268   \n",
              "4                15.98439         8.11707        0.00039         15.98439   \n",
              "5                15.48488        11.48878        0.00034         15.98439   \n",
              "6                15.36000         8.11707        0.00034         15.36000   \n",
              "7                14.23610         7.36780        0.00037         13.86146   \n",
              "8                14.48585         6.61854        0.00036         13.98634   \n",
              "9                13.86146         9.86537        0.00034         13.36195   \n",
              "\n",
              "   MeanF_Beta_O2  Spectral Edge_Beta_O2  ...  MeanP_Delta_O2  \\\n",
              "0       25.84976               28.47220  ...         0.00112   \n",
              "1       26.22439               28.72195  ...         0.00070   \n",
              "2       26.47415               28.84683  ...         0.00077   \n",
              "3       26.47415               28.59707  ...         0.00130   \n",
              "4       24.47610               25.97463  ...         0.00123   \n",
              "5       24.35122               25.84976  ...         0.00217   \n",
              "6       23.97659               25.47512  ...         0.00223   \n",
              "7       22.85268               24.10146  ...         0.00216   \n",
              "8       22.85268               23.97659  ...         0.00230   \n",
              "9       22.60293               23.60195  ...         0.00253   \n",
              "\n",
              "   MedianF_Delta_O2  MeanF_Delta_O2  Spectral Edge_Delta_O2  PeakF_Delta_O2  \\\n",
              "0           0.74927         6.36878                 2.87220         0.62439   \n",
              "1           0.99902         6.86829                 3.62146         0.74927   \n",
              "2           1.49854         6.49366                 4.12098         0.74927   \n",
              "3           1.87317         6.11902                 3.74634         0.37463   \n",
              "4           1.49854         6.61854                 3.74634         0.74927   \n",
              "5           1.99805         5.74439                 3.62146         2.74732   \n",
              "6           1.37366         5.86927                 3.62146         1.12390   \n",
              "7           1.62341         6.24390                 3.87122         0.62439   \n",
              "8           1.74829         5.74439                 3.87122         0.49951   \n",
              "9           1.74829         5.86927                 3.62146         0.49951   \n",
              "\n",
              "   MeanP_Gamma_O2  MedianF_Gamma_O2  MeanF_Gamma_O2  Spectral Edge_Gamma_O2  \\\n",
              "0        0.000076          32.71805        43.83220                49.95122   \n",
              "1        0.000072          32.09366        44.33171                49.95122   \n",
              "2        0.000069          33.09268        43.95707                49.95122   \n",
              "3        0.000070          31.59415        42.83317                49.95122   \n",
              "4        0.000060          29.47122        45.08098                49.95122   \n",
              "5        0.000053          30.09561        47.82829                49.95122   \n",
              "6        0.000050          29.72098        49.70146                49.95122   \n",
              "7        0.000046          29.59610        49.82634                49.95122   \n",
              "8        0.000044          28.84683        49.82634                49.95122   \n",
              "9        0.000041          31.21951        49.82634                49.95122   \n",
              "\n",
              "   PeakF_Gamma_O2  \n",
              "0        49.95122  \n",
              "1        49.95122  \n",
              "2        49.95122  \n",
              "3        49.95122  \n",
              "4        49.95122  \n",
              "5        49.95122  \n",
              "6        49.95122  \n",
              "7        49.95122  \n",
              "8        49.95122  \n",
              "9        49.95122  \n",
              "\n",
              "[10 rows x 26 columns]"
            ],
            "text/html": [
              "\n",
              "  <div id=\"df-053df2a7-49f9-43d4-bced-550dd74b9f71\">\n",
              "    <div class=\"colab-df-container\">\n",
              "      <div>\n",
              "<style scoped>\n",
              "    .dataframe tbody tr th:only-of-type {\n",
              "        vertical-align: middle;\n",
              "    }\n",
              "\n",
              "    .dataframe tbody tr th {\n",
              "        vertical-align: top;\n",
              "    }\n",
              "\n",
              "    .dataframe thead th {\n",
              "        text-align: right;\n",
              "    }\n",
              "</style>\n",
              "<table border=\"1\" class=\"dataframe\">\n",
              "  <thead>\n",
              "    <tr style=\"text-align: right;\">\n",
              "      <th></th>\n",
              "      <th>Sleep_Stage</th>\n",
              "      <th>MeanP_Alpha_O2</th>\n",
              "      <th>MedianF_Alpha_O2</th>\n",
              "      <th>MeanF_Alpha_O2</th>\n",
              "      <th>Spectral Edge_Alpha_O2</th>\n",
              "      <th>PeakF_Alpha_O2</th>\n",
              "      <th>MeanP_Beta_O2</th>\n",
              "      <th>MedianF_Beta_O2</th>\n",
              "      <th>MeanF_Beta_O2</th>\n",
              "      <th>Spectral Edge_Beta_O2</th>\n",
              "      <th>...</th>\n",
              "      <th>MeanP_Delta_O2</th>\n",
              "      <th>MedianF_Delta_O2</th>\n",
              "      <th>MeanF_Delta_O2</th>\n",
              "      <th>Spectral Edge_Delta_O2</th>\n",
              "      <th>PeakF_Delta_O2</th>\n",
              "      <th>MeanP_Gamma_O2</th>\n",
              "      <th>MedianF_Gamma_O2</th>\n",
              "      <th>MeanF_Gamma_O2</th>\n",
              "      <th>Spectral Edge_Gamma_O2</th>\n",
              "      <th>PeakF_Gamma_O2</th>\n",
              "    </tr>\n",
              "  </thead>\n",
              "  <tbody>\n",
              "    <tr>\n",
              "      <th>0</th>\n",
              "      <td>NREM</td>\n",
              "      <td>0.00023</td>\n",
              "      <td>10.61463</td>\n",
              "      <td>18.48195</td>\n",
              "      <td>17.98244</td>\n",
              "      <td>10.73951</td>\n",
              "      <td>0.00034</td>\n",
              "      <td>18.23220</td>\n",
              "      <td>25.84976</td>\n",
              "      <td>28.47220</td>\n",
              "      <td>...</td>\n",
              "      <td>0.00112</td>\n",
              "      <td>0.74927</td>\n",
              "      <td>6.36878</td>\n",
              "      <td>2.87220</td>\n",
              "      <td>0.62439</td>\n",
              "      <td>0.000076</td>\n",
              "      <td>32.71805</td>\n",
              "      <td>43.83220</td>\n",
              "      <td>49.95122</td>\n",
              "      <td>49.95122</td>\n",
              "    </tr>\n",
              "    <tr>\n",
              "      <th>1</th>\n",
              "      <td>NREM</td>\n",
              "      <td>0.00023</td>\n",
              "      <td>10.36488</td>\n",
              "      <td>18.10732</td>\n",
              "      <td>17.48293</td>\n",
              "      <td>10.24000</td>\n",
              "      <td>0.00032</td>\n",
              "      <td>18.10732</td>\n",
              "      <td>26.22439</td>\n",
              "      <td>28.72195</td>\n",
              "      <td>...</td>\n",
              "      <td>0.00070</td>\n",
              "      <td>0.99902</td>\n",
              "      <td>6.86829</td>\n",
              "      <td>3.62146</td>\n",
              "      <td>0.74927</td>\n",
              "      <td>0.000072</td>\n",
              "      <td>32.09366</td>\n",
              "      <td>44.33171</td>\n",
              "      <td>49.95122</td>\n",
              "      <td>49.95122</td>\n",
              "    </tr>\n",
              "    <tr>\n",
              "      <th>2</th>\n",
              "      <td>NREM</td>\n",
              "      <td>0.00025</td>\n",
              "      <td>9.74049</td>\n",
              "      <td>17.35805</td>\n",
              "      <td>16.73366</td>\n",
              "      <td>9.86537</td>\n",
              "      <td>0.00031</td>\n",
              "      <td>17.23317</td>\n",
              "      <td>26.47415</td>\n",
              "      <td>28.84683</td>\n",
              "      <td>...</td>\n",
              "      <td>0.00077</td>\n",
              "      <td>1.49854</td>\n",
              "      <td>6.49366</td>\n",
              "      <td>4.12098</td>\n",
              "      <td>0.74927</td>\n",
              "      <td>0.000069</td>\n",
              "      <td>33.09268</td>\n",
              "      <td>43.95707</td>\n",
              "      <td>49.95122</td>\n",
              "      <td>49.95122</td>\n",
              "    </tr>\n",
              "    <tr>\n",
              "      <th>3</th>\n",
              "      <td>NREM</td>\n",
              "      <td>0.00027</td>\n",
              "      <td>9.49073</td>\n",
              "      <td>17.60780</td>\n",
              "      <td>16.85854</td>\n",
              "      <td>8.11707</td>\n",
              "      <td>0.00033</td>\n",
              "      <td>17.73268</td>\n",
              "      <td>26.47415</td>\n",
              "      <td>28.59707</td>\n",
              "      <td>...</td>\n",
              "      <td>0.00130</td>\n",
              "      <td>1.87317</td>\n",
              "      <td>6.11902</td>\n",
              "      <td>3.74634</td>\n",
              "      <td>0.37463</td>\n",
              "      <td>0.000070</td>\n",
              "      <td>31.59415</td>\n",
              "      <td>42.83317</td>\n",
              "      <td>49.95122</td>\n",
              "      <td>49.95122</td>\n",
              "    </tr>\n",
              "    <tr>\n",
              "      <th>4</th>\n",
              "      <td>NREM</td>\n",
              "      <td>0.00036</td>\n",
              "      <td>9.24098</td>\n",
              "      <td>16.48390</td>\n",
              "      <td>15.98439</td>\n",
              "      <td>8.11707</td>\n",
              "      <td>0.00039</td>\n",
              "      <td>15.98439</td>\n",
              "      <td>24.47610</td>\n",
              "      <td>25.97463</td>\n",
              "      <td>...</td>\n",
              "      <td>0.00123</td>\n",
              "      <td>1.49854</td>\n",
              "      <td>6.61854</td>\n",
              "      <td>3.74634</td>\n",
              "      <td>0.74927</td>\n",
              "      <td>0.000060</td>\n",
              "      <td>29.47122</td>\n",
              "      <td>45.08098</td>\n",
              "      <td>49.95122</td>\n",
              "      <td>49.95122</td>\n",
              "    </tr>\n",
              "    <tr>\n",
              "      <th>5</th>\n",
              "      <td>NREM</td>\n",
              "      <td>0.00035</td>\n",
              "      <td>9.24098</td>\n",
              "      <td>16.60878</td>\n",
              "      <td>15.48488</td>\n",
              "      <td>11.48878</td>\n",
              "      <td>0.00034</td>\n",
              "      <td>15.98439</td>\n",
              "      <td>24.35122</td>\n",
              "      <td>25.84976</td>\n",
              "      <td>...</td>\n",
              "      <td>0.00217</td>\n",
              "      <td>1.99805</td>\n",
              "      <td>5.74439</td>\n",
              "      <td>3.62146</td>\n",
              "      <td>2.74732</td>\n",
              "      <td>0.000053</td>\n",
              "      <td>30.09561</td>\n",
              "      <td>47.82829</td>\n",
              "      <td>49.95122</td>\n",
              "      <td>49.95122</td>\n",
              "    </tr>\n",
              "    <tr>\n",
              "      <th>6</th>\n",
              "      <td>NREM</td>\n",
              "      <td>0.00038</td>\n",
              "      <td>9.24098</td>\n",
              "      <td>15.85951</td>\n",
              "      <td>15.36000</td>\n",
              "      <td>8.11707</td>\n",
              "      <td>0.00034</td>\n",
              "      <td>15.36000</td>\n",
              "      <td>23.97659</td>\n",
              "      <td>25.47512</td>\n",
              "      <td>...</td>\n",
              "      <td>0.00223</td>\n",
              "      <td>1.37366</td>\n",
              "      <td>5.86927</td>\n",
              "      <td>3.62146</td>\n",
              "      <td>1.12390</td>\n",
              "      <td>0.000050</td>\n",
              "      <td>29.72098</td>\n",
              "      <td>49.70146</td>\n",
              "      <td>49.95122</td>\n",
              "      <td>49.95122</td>\n",
              "    </tr>\n",
              "    <tr>\n",
              "      <th>7</th>\n",
              "      <td>NREM</td>\n",
              "      <td>0.00044</td>\n",
              "      <td>9.11610</td>\n",
              "      <td>15.36000</td>\n",
              "      <td>14.23610</td>\n",
              "      <td>7.36780</td>\n",
              "      <td>0.00037</td>\n",
              "      <td>13.86146</td>\n",
              "      <td>22.85268</td>\n",
              "      <td>24.10146</td>\n",
              "      <td>...</td>\n",
              "      <td>0.00216</td>\n",
              "      <td>1.62341</td>\n",
              "      <td>6.24390</td>\n",
              "      <td>3.87122</td>\n",
              "      <td>0.62439</td>\n",
              "      <td>0.000046</td>\n",
              "      <td>29.59610</td>\n",
              "      <td>49.82634</td>\n",
              "      <td>49.95122</td>\n",
              "      <td>49.95122</td>\n",
              "    </tr>\n",
              "    <tr>\n",
              "      <th>8</th>\n",
              "      <td>NREM</td>\n",
              "      <td>0.00043</td>\n",
              "      <td>9.24098</td>\n",
              "      <td>15.36000</td>\n",
              "      <td>14.48585</td>\n",
              "      <td>6.61854</td>\n",
              "      <td>0.00036</td>\n",
              "      <td>13.98634</td>\n",
              "      <td>22.85268</td>\n",
              "      <td>23.97659</td>\n",
              "      <td>...</td>\n",
              "      <td>0.00230</td>\n",
              "      <td>1.74829</td>\n",
              "      <td>5.74439</td>\n",
              "      <td>3.87122</td>\n",
              "      <td>0.49951</td>\n",
              "      <td>0.000044</td>\n",
              "      <td>28.84683</td>\n",
              "      <td>49.82634</td>\n",
              "      <td>49.95122</td>\n",
              "      <td>49.95122</td>\n",
              "    </tr>\n",
              "    <tr>\n",
              "      <th>9</th>\n",
              "      <td>NREM</td>\n",
              "      <td>0.00044</td>\n",
              "      <td>9.11610</td>\n",
              "      <td>14.86049</td>\n",
              "      <td>13.86146</td>\n",
              "      <td>9.86537</td>\n",
              "      <td>0.00034</td>\n",
              "      <td>13.36195</td>\n",
              "      <td>22.60293</td>\n",
              "      <td>23.60195</td>\n",
              "      <td>...</td>\n",
              "      <td>0.00253</td>\n",
              "      <td>1.74829</td>\n",
              "      <td>5.86927</td>\n",
              "      <td>3.62146</td>\n",
              "      <td>0.49951</td>\n",
              "      <td>0.000041</td>\n",
              "      <td>31.21951</td>\n",
              "      <td>49.82634</td>\n",
              "      <td>49.95122</td>\n",
              "      <td>49.95122</td>\n",
              "    </tr>\n",
              "  </tbody>\n",
              "</table>\n",
              "<p>10 rows × 26 columns</p>\n",
              "</div>\n",
              "      <button class=\"colab-df-convert\" onclick=\"convertToInteractive('df-053df2a7-49f9-43d4-bced-550dd74b9f71')\"\n",
              "              title=\"Convert this dataframe to an interactive table.\"\n",
              "              style=\"display:none;\">\n",
              "        \n",
              "  <svg xmlns=\"http://www.w3.org/2000/svg\" height=\"24px\"viewBox=\"0 0 24 24\"\n",
              "       width=\"24px\">\n",
              "    <path d=\"M0 0h24v24H0V0z\" fill=\"none\"/>\n",
              "    <path d=\"M18.56 5.44l.94 2.06.94-2.06 2.06-.94-2.06-.94-.94-2.06-.94 2.06-2.06.94zm-11 1L8.5 8.5l.94-2.06 2.06-.94-2.06-.94L8.5 2.5l-.94 2.06-2.06.94zm10 10l.94 2.06.94-2.06 2.06-.94-2.06-.94-.94-2.06-.94 2.06-2.06.94z\"/><path d=\"M17.41 7.96l-1.37-1.37c-.4-.4-.92-.59-1.43-.59-.52 0-1.04.2-1.43.59L10.3 9.45l-7.72 7.72c-.78.78-.78 2.05 0 2.83L4 21.41c.39.39.9.59 1.41.59.51 0 1.02-.2 1.41-.59l7.78-7.78 2.81-2.81c.8-.78.8-2.07 0-2.86zM5.41 20L4 18.59l7.72-7.72 1.47 1.35L5.41 20z\"/>\n",
              "  </svg>\n",
              "      </button>\n",
              "      \n",
              "  <style>\n",
              "    .colab-df-container {\n",
              "      display:flex;\n",
              "      flex-wrap:wrap;\n",
              "      gap: 12px;\n",
              "    }\n",
              "\n",
              "    .colab-df-convert {\n",
              "      background-color: #E8F0FE;\n",
              "      border: none;\n",
              "      border-radius: 50%;\n",
              "      cursor: pointer;\n",
              "      display: none;\n",
              "      fill: #1967D2;\n",
              "      height: 32px;\n",
              "      padding: 0 0 0 0;\n",
              "      width: 32px;\n",
              "    }\n",
              "\n",
              "    .colab-df-convert:hover {\n",
              "      background-color: #E2EBFA;\n",
              "      box-shadow: 0px 1px 2px rgba(60, 64, 67, 0.3), 0px 1px 3px 1px rgba(60, 64, 67, 0.15);\n",
              "      fill: #174EA6;\n",
              "    }\n",
              "\n",
              "    [theme=dark] .colab-df-convert {\n",
              "      background-color: #3B4455;\n",
              "      fill: #D2E3FC;\n",
              "    }\n",
              "\n",
              "    [theme=dark] .colab-df-convert:hover {\n",
              "      background-color: #434B5C;\n",
              "      box-shadow: 0px 1px 3px 1px rgba(0, 0, 0, 0.15);\n",
              "      filter: drop-shadow(0px 1px 2px rgba(0, 0, 0, 0.3));\n",
              "      fill: #FFFFFF;\n",
              "    }\n",
              "  </style>\n",
              "\n",
              "      <script>\n",
              "        const buttonEl =\n",
              "          document.querySelector('#df-053df2a7-49f9-43d4-bced-550dd74b9f71 button.colab-df-convert');\n",
              "        buttonEl.style.display =\n",
              "          google.colab.kernel.accessAllowed ? 'block' : 'none';\n",
              "\n",
              "        async function convertToInteractive(key) {\n",
              "          const element = document.querySelector('#df-053df2a7-49f9-43d4-bced-550dd74b9f71');\n",
              "          const dataTable =\n",
              "            await google.colab.kernel.invokeFunction('convertToInteractive',\n",
              "                                                     [key], {});\n",
              "          if (!dataTable) return;\n",
              "\n",
              "          const docLinkHtml = 'Like what you see? Visit the ' +\n",
              "            '<a target=\"_blank\" href=https://colab.research.google.com/notebooks/data_table.ipynb>data table notebook</a>'\n",
              "            + ' to learn more about interactive tables.';\n",
              "          element.innerHTML = '';\n",
              "          dataTable['output_type'] = 'display_data';\n",
              "          await google.colab.output.renderOutput(dataTable, element);\n",
              "          const docLink = document.createElement('div');\n",
              "          docLink.innerHTML = docLinkHtml;\n",
              "          element.appendChild(docLink);\n",
              "        }\n",
              "      </script>\n",
              "    </div>\n",
              "  </div>\n",
              "  "
            ]
          },
          "metadata": {},
          "execution_count": 8
        }
      ]
    },
    {
      "cell_type": "code",
      "source": [
        "dataset.shape"
      ],
      "metadata": {
        "colab": {
          "base_uri": "https://localhost:8080/"
        },
        "id": "RdOiuugSBB9O",
        "outputId": "0cc8962c-d28a-48d0-a71b-c4f287f62145"
      },
      "execution_count": 6,
      "outputs": [
        {
          "output_type": "execute_result",
          "data": {
            "text/plain": [
              "(89096, 26)"
            ]
          },
          "metadata": {},
          "execution_count": 6
        }
      ]
    },
    {
      "cell_type": "code",
      "source": [
        "dataset[\"Sleep_Stage\"].unique()"
      ],
      "metadata": {
        "colab": {
          "base_uri": "https://localhost:8080/"
        },
        "id": "A6dpHf-kBI05",
        "outputId": "3f663ffc-fb3b-4c48-be08-7060ce41aa8d"
      },
      "execution_count": 7,
      "outputs": [
        {
          "output_type": "execute_result",
          "data": {
            "text/plain": [
              "array(['NREM', 'REM'], dtype=object)"
            ]
          },
          "metadata": {},
          "execution_count": 7
        }
      ]
    },
    {
      "cell_type": "markdown",
      "source": [
        "#Spliting"
      ],
      "metadata": {
        "id": "UdgJW4e8CQQj"
      }
    },
    {
      "cell_type": "code",
      "source": [
        "X = dataset.loc[:, dataset.columns != \"Sleep_Stage\"]\n",
        "Y = dataset[\"Sleep_Stage\"]"
      ],
      "metadata": {
        "id": "AlXGFFK3BjNT"
      },
      "execution_count": 9,
      "outputs": []
    },
    {
      "cell_type": "markdown",
      "source": [
        "#Scalinng"
      ],
      "metadata": {
        "id": "uh_g7VGqCxbn"
      }
    },
    {
      "cell_type": "code",
      "source": [
        "from sklearn.preprocessing import StandardScaler\n",
        "\n",
        "X = StandardScaler().fit_transform(X)"
      ],
      "metadata": {
        "id": "Hp_SAO8HCsHK"
      },
      "execution_count": 10,
      "outputs": []
    },
    {
      "cell_type": "code",
      "source": [
        "from sklearn.model_selection import train_test_split\n",
        "\n",
        "X_train,X_test,Y_train,Y_test = train_test_split(X,Y, test_size=0.2)"
      ],
      "metadata": {
        "id": "RzTv4uI_ET1y"
      },
      "execution_count": 17,
      "outputs": []
    },
    {
      "cell_type": "markdown",
      "source": [
        "#n_Estimator Tunning"
      ],
      "metadata": {
        "id": "yw5zZx17N53w"
      }
    },
    {
      "cell_type": "code",
      "source": [
        "from sklearn.ensemble import GradientBoostingClassifier\n",
        "from sklearn.metrics import accuracy_score\n",
        "for i in range(1,5):\n",
        "  clf = GradientBoostingClassifier(n_estimators=i)\n",
        "  clf.fit(X_train, Y_train)\n",
        "  y_pred = clf.predict(X_test)\n",
        "  print(\"Estimatior:\",i,\"Accuracy:\",accuracy_score(Y_test,y_pred))"
      ],
      "metadata": {
        "colab": {
          "base_uri": "https://localhost:8080/"
        },
        "id": "DVYrzrPsEz-V",
        "outputId": "6be3a58a-528a-40c1-d69f-0b7f5d3f4440"
      },
      "execution_count": 28,
      "outputs": [
        {
          "output_type": "stream",
          "name": "stdout",
          "text": [
            "Estimatior: 1 Accuracy: 0.8184062850729518\n",
            "Estimatior: 2 Accuracy: 0.8184062850729518\n",
            "Estimatior: 3 Accuracy: 0.8184062850729518\n",
            "Estimatior: 4 Accuracy: 0.8184062850729518\n"
          ]
        }
      ]
    },
    {
      "cell_type": "markdown",
      "source": [
        "#depth tuning"
      ],
      "metadata": {
        "id": "AcpHOyxgOBn1"
      }
    },
    {
      "cell_type": "code",
      "source": [
        "for i in range(1,5):\n",
        "  clf = GradientBoostingClassifier(max_depth=i)\n",
        "  clf.fit(X_train, Y_train)\n",
        "  y_pred = clf.predict(X_test)\n",
        "  print(\"Estimatior:\",i,\"Accuracy:\",accuracy_score(Y_test,y_pred))"
      ],
      "metadata": {
        "colab": {
          "base_uri": "https://localhost:8080/"
        },
        "id": "5EfHKyN4OE8_",
        "outputId": "5594807e-8399-49d0-e23d-554a8d05c205"
      },
      "execution_count": 29,
      "outputs": [
        {
          "output_type": "stream",
          "name": "stdout",
          "text": [
            "Estimatior: 1 Accuracy: 0.8304713804713805\n",
            "Estimatior: 2 Accuracy: 0.8452300785634119\n",
            "Estimatior: 3 Accuracy: 0.8541526374859708\n",
            "Estimatior: 4 Accuracy: 0.8626262626262626\n"
          ]
        }
      ]
    },
    {
      "cell_type": "code",
      "source": [
        "from sklearn.metrics import accuracy_score\n",
        "\n",
        "print(accuracy_score(Y_test,y_pred))"
      ],
      "metadata": {
        "colab": {
          "base_uri": "https://localhost:8080/"
        },
        "id": "tRR-G5OMFD3x",
        "outputId": "ebd883a1-6501-4d49-eaf8-fedd50d69614"
      },
      "execution_count": 19,
      "outputs": [
        {
          "output_type": "stream",
          "name": "stdout",
          "text": [
            "0.8641414141414141\n"
          ]
        }
      ]
    },
    {
      "cell_type": "markdown",
      "source": [
        "#Accuracy Matrix"
      ],
      "metadata": {
        "id": "UllbLmJzHgvx"
      }
    },
    {
      "cell_type": "code",
      "source": [
        "from sklearn.metrics import confusion_matrix,classification_report\n",
        "\n",
        "print(confusion_matrix(Y_test, y_pred))\n",
        "print(classification_report(Y_test, y_pred))"
      ],
      "metadata": {
        "colab": {
          "base_uri": "https://localhost:8080/"
        },
        "id": "5XbdM6WLHioU",
        "outputId": "99cd8225-ec29-41e7-8bf3-07003cb03833"
      },
      "execution_count": 21,
      "outputs": [
        {
          "output_type": "stream",
          "name": "stdout",
          "text": [
            "[[14183   401]\n",
            " [ 2020  1216]]\n",
            "              precision    recall  f1-score   support\n",
            "\n",
            "        NREM       0.88      0.97      0.92     14584\n",
            "         REM       0.75      0.38      0.50      3236\n",
            "\n",
            "    accuracy                           0.86     17820\n",
            "   macro avg       0.81      0.67      0.71     17820\n",
            "weighted avg       0.85      0.86      0.85     17820\n",
            "\n"
          ]
        }
      ]
    }
  ]
}